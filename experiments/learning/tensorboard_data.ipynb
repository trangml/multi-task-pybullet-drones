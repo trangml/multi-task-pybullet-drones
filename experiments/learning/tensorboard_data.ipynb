{
 "cells": [
  {
   "cell_type": "code",
   "execution_count": null,
   "metadata": {},
   "outputs": [],
   "source": [
    "from packaging import version\n",
    "\n",
    "import pandas as pd\n",
    "from matplotlib import pyplot as plt\n",
    "import seaborn as sns\n",
    "from scipy import stats\n",
    "import tensorboard as tb\n"
   ]
  },
  {
   "cell_type": "code",
   "execution_count": null,
   "metadata": {},
   "outputs": [],
   "source": [
    "major_ver, minor_ver, _ = version.parse(tb.__version__).release\n",
    "assert major_ver >= 2 and minor_ver >= 3, \\\n",
    "    \"This notebook requires TensorBoard 2.3 or later.\"\n",
    "print(\"TensorBoard version: \", tb.__version__)\n"
   ]
  },
  {
   "cell_type": "code",
   "execution_count": null,
   "metadata": {},
   "outputs": [],
   "source": [
    "experiment_id = \"c1KCv3X3QvGwaXfgX1c4tg\"\n",
    "experiment = tb.data.experimental.ExperimentFromDev(experiment_id)\n",
    "df = experiment.get_scalars()\n",
    "df"
   ]
  },
  {
   "cell_type": "code",
   "execution_count": null,
   "metadata": {},
   "outputs": [],
   "source": [
    "print(df[\"run\"].unique())\n",
    "print(df[\"tag\"].unique())\n"
   ]
  },
  {
   "cell_type": "code",
   "execution_count": null,
   "metadata": {},
   "outputs": [],
   "source": [
    "dfw = experiment.get_scalars(pivot=True) \n",
    "dfw"
   ]
  },
  {
   "cell_type": "code",
   "execution_count": null,
   "metadata": {},
   "outputs": [],
   "source": [
    "csv_path = '/tmp/tb_experiment_1.csv'\n",
    "dfw.to_csv(csv_path, index=False)\n",
    "dfw_roundtrip = pd.read_csv(csv_path)\n",
    "pd.testing.assert_frame_equal(dfw_roundtrip, dfw)\n"
   ]
  },
  {
   "cell_type": "code",
   "execution_count": null,
   "metadata": {},
   "outputs": [],
   "source": [
    "# Filter the DataFrame to only validation data, which is what the subsequent\n",
    "# analyses and visualization will be focused on.\n",
    "dfw_validation = dfw[dfw.run.str.endswith(\"/validation\")]\n",
    "# Get the optimizer value for each row of the validation DataFrame.\n",
    "optimizer_validation = dfw_validation.run.apply(lambda run: run.split(\",\")[0])\n",
    "\n",
    "plt.figure(figsize=(16, 6))\n",
    "plt.subplot(1, 2, 1)\n",
    "sns.lineplot(data=dfw_validation, x=\"step\", y=\"epoch_accuracy\",\n",
    "             hue=optimizer_validation).set_title(\"accuracy\")\n",
    "plt.subplot(1, 2, 2)\n",
    "sns.lineplot(data=dfw_validation, x=\"step\", y=\"epoch_loss\",\n",
    "             hue=optimizer_validation).set_title(\"loss\")\n"
   ]
  },
  {
   "cell_type": "code",
   "execution_count": null,
   "metadata": {},
   "outputs": [],
   "source": [
    "adam_min_val_loss = dfw_validation.loc[optimizer_validation==\"adam\", :].groupby(\n",
    "    \"run\", as_index=False).agg({\"epoch_loss\": \"min\"})\n",
    "rmsprop_min_val_loss = dfw_validation.loc[optimizer_validation==\"rmsprop\", :].groupby(\n",
    "    \"run\", as_index=False).agg({\"epoch_loss\": \"min\"})\n",
    "sgd_min_val_loss = dfw_validation.loc[optimizer_validation==\"sgd\", :].groupby(\n",
    "    \"run\", as_index=False).agg({\"epoch_loss\": \"min\"})\n",
    "min_val_loss = pd.concat([adam_min_val_loss, rmsprop_min_val_loss, sgd_min_val_loss])\n",
    "\n",
    "sns.boxplot(data=min_val_loss, y=\"epoch_loss\",\n",
    "            x=min_val_loss.run.apply(lambda run: run.split(\",\")[0]))\n"
   ]
  },
  {
   "cell_type": "code",
   "execution_count": null,
   "metadata": {},
   "outputs": [],
   "source": [
    "# Perform pairwise comparisons between the minimum validation losses\n",
    "# from the three optimizers.\n",
    "_, p_adam_vs_rmsprop = stats.ttest_ind(\n",
    "    adam_min_val_loss[\"epoch_loss\"],\n",
    "    rmsprop_min_val_loss[\"epoch_loss\"]) \n",
    "_, p_adam_vs_sgd = stats.ttest_ind(\n",
    "    adam_min_val_loss[\"epoch_loss\"],\n",
    "    sgd_min_val_loss[\"epoch_loss\"]) \n",
    "_, p_rmsprop_vs_sgd = stats.ttest_ind(\n",
    "    rmsprop_min_val_loss[\"epoch_loss\"],\n",
    "    sgd_min_val_loss[\"epoch_loss\"]) \n",
    "print(\"adam vs. rmsprop: p = %.4f\" % p_adam_vs_rmsprop)\n",
    "print(\"adam vs. sgd: p = %.4f\" % p_adam_vs_sgd)\n",
    "print(\"rmsprop vs. sgd: p = %.4f\" % p_rmsprop_vs_sgd)\n"
   ]
  },
  {
   "cell_type": "code",
   "execution_count": null,
   "metadata": {},
   "outputs": [],
   "source": []
  }
 ],
 "metadata": {
  "kernelspec": {
   "display_name": "Python 3.8.13 ('drones')",
   "language": "python",
   "name": "python3"
  },
  "language_info": {
   "name": "python",
   "version": "3.8.13 (default, Mar 28 2022, 11:38:47) \n[GCC 7.5.0]"
  },
  "orig_nbformat": 4,
  "vscode": {
   "interpreter": {
    "hash": "368184befd70de6859feb7ba7ed007b2fb115c321767e95f8823607adf146467"
   }
  }
 },
 "nbformat": 4,
 "nbformat_minor": 2
}
