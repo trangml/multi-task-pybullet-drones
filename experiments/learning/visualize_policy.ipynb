{
 "cells": [
  {
   "cell_type": "code",
   "execution_count": 1,
   "metadata": {},
   "outputs": [
    {
     "name": "stderr",
     "output_type": "stream",
     "text": [
      "pybullet build time: May 20 2022 19:44:17\n"
     ]
    }
   ],
   "source": [
    "import matplotlib.pyplot as plt\n",
    "import os\n",
    "import time\n",
    "from datetime import datetime\n",
    "import argparse\n",
    "import numpy as np\n",
    "import gym\n",
    "import torch\n",
    "import random\n",
    "from omegaconf import OmegaConf\n",
    "from stable_baselines3 import A2C\n",
    "from stable_baselines3 import PPO\n",
    "from stable_baselines3 import SAC\n",
    "from stable_baselines3 import TD3\n",
    "from stable_baselines3 import DDPG\n",
    "from stable_baselines3.common.evaluation import evaluate_policy\n",
    "from stable_baselines3.common.vec_env import (\n",
    "    VecTransposeImage,\n",
    "    VecFrameStack,\n",
    "    VecNormalize,\n",
    ")\n",
    "from gym_pybullet_drones.envs.single_agent_rl.common.NotVecNormalize import (\n",
    "    NotVecNormalize,\n",
    ")\n",
    "from stable_baselines3.common.env_util import make_vec_env\n",
    "from gym_pybullet_drones.envs.single_agent_rl import map_name_to_env\n",
    "\n",
    "from gym_pybullet_drones.utils.utils import sync\n",
    "from gym_pybullet_drones.utils.Logger import Logger\n",
    "from gym_pybullet_drones.envs.single_agent_rl.BaseSingleAgentAviary import (\n",
    "    ActionType,\n",
    "    ObservationType,\n",
    ")\n",
    "from gym_pybullet_drones.utils.utils import sync, str2bool\n",
    "\n",
    "import shared_constants"
   ]
  },
  {
   "cell_type": "code",
   "execution_count": 9,
   "metadata": {},
   "outputs": [],
   "source": [
    "def get_weights_print_stats(layer):\n",
    "    #W = layer.get_weights()\n",
    "    W = layer\n",
    "    print(len(W))\n",
    "    for w in W:\n",
    "        print(w.shape)\n",
    "    return W\n",
    "\n",
    "def hist_weights(weights, bins=500):\n",
    "    for weight in weights:\n",
    "        plt.hist(np.ndarray.flatten(weight), bins=bins)\n"
   ]
  },
  {
   "cell_type": "code",
   "execution_count": 5,
   "metadata": {},
   "outputs": [],
   "source": [
    "path = \"results/save-cross-obstacles-ppo-BOTH-RPM-inc_difficulty_1_npt_seed_0_collision-10.07.2022_11.44.14/best_model.zip\"\n",
    "\n",
    "model = PPO.load(path)"
   ]
  },
  {
   "cell_type": "code",
   "execution_count": 10,
   "metadata": {},
   "outputs": [
    {
     "name": "stdout",
     "output_type": "stream",
     "text": [
      "21\n"
     ]
    },
    {
     "ename": "AttributeError",
     "evalue": "'str' object has no attribute 'shape'",
     "output_type": "error",
     "traceback": [
      "\u001b[0;31m---------------------------------------------------------------------------\u001b[0m",
      "\u001b[0;31mAttributeError\u001b[0m                            Traceback (most recent call last)",
      "\u001b[1;32m/home/mtrang/Documents/vt/research/multiagent-pybullet-drones/experiments/learning/visualize_policy.ipynb Cell 4\u001b[0m in \u001b[0;36m<cell line: 2>\u001b[0;34m()\u001b[0m\n\u001b[1;32m      <a href='vscode-notebook-cell:/home/mtrang/Documents/vt/research/multiagent-pybullet-drones/experiments/learning/visualize_policy.ipynb#W3sZmlsZQ%3D%3D?line=0'>1</a>\u001b[0m params \u001b[39m=\u001b[39m model\u001b[39m.\u001b[39mget_parameters()\n\u001b[0;32m----> <a href='vscode-notebook-cell:/home/mtrang/Documents/vt/research/multiagent-pybullet-drones/experiments/learning/visualize_policy.ipynb#W3sZmlsZQ%3D%3D?line=1'>2</a>\u001b[0m W \u001b[39m=\u001b[39m get_weights_print_stats(params[\u001b[39m\"\u001b[39;49m\u001b[39mpolicy\u001b[39;49m\u001b[39m\"\u001b[39;49m])\n\u001b[1;32m      <a href='vscode-notebook-cell:/home/mtrang/Documents/vt/research/multiagent-pybullet-drones/experiments/learning/visualize_policy.ipynb#W3sZmlsZQ%3D%3D?line=2'>3</a>\u001b[0m hist_weights(W)\n",
      "\u001b[1;32m/home/mtrang/Documents/vt/research/multiagent-pybullet-drones/experiments/learning/visualize_policy.ipynb Cell 4\u001b[0m in \u001b[0;36mget_weights_print_stats\u001b[0;34m(layer)\u001b[0m\n\u001b[1;32m      <a href='vscode-notebook-cell:/home/mtrang/Documents/vt/research/multiagent-pybullet-drones/experiments/learning/visualize_policy.ipynb#W3sZmlsZQ%3D%3D?line=3'>4</a>\u001b[0m \u001b[39mprint\u001b[39m(\u001b[39mlen\u001b[39m(W))\n\u001b[1;32m      <a href='vscode-notebook-cell:/home/mtrang/Documents/vt/research/multiagent-pybullet-drones/experiments/learning/visualize_policy.ipynb#W3sZmlsZQ%3D%3D?line=4'>5</a>\u001b[0m \u001b[39mfor\u001b[39;00m w \u001b[39min\u001b[39;00m W:\n\u001b[0;32m----> <a href='vscode-notebook-cell:/home/mtrang/Documents/vt/research/multiagent-pybullet-drones/experiments/learning/visualize_policy.ipynb#W3sZmlsZQ%3D%3D?line=5'>6</a>\u001b[0m     \u001b[39mprint\u001b[39m(w\u001b[39m.\u001b[39;49mshape)\n\u001b[1;32m      <a href='vscode-notebook-cell:/home/mtrang/Documents/vt/research/multiagent-pybullet-drones/experiments/learning/visualize_policy.ipynb#W3sZmlsZQ%3D%3D?line=6'>7</a>\u001b[0m \u001b[39mreturn\u001b[39;00m W\n",
      "\u001b[0;31mAttributeError\u001b[0m: 'str' object has no attribute 'shape'"
     ]
    }
   ],
   "source": [
    "params = model.get_parameters()\n",
    "W = get_weights_print_stats(params[\"policy\"])\n",
    "hist_weights(W)"
   ]
  }
 ],
 "metadata": {
  "kernelspec": {
   "display_name": "Python 3.8.13 ('drones')",
   "language": "python",
   "name": "python3"
  },
  "language_info": {
   "codemirror_mode": {
    "name": "ipython",
    "version": 3
   },
   "file_extension": ".py",
   "mimetype": "text/x-python",
   "name": "python",
   "nbconvert_exporter": "python",
   "pygments_lexer": "ipython3",
   "version": "3.8.13"
  },
  "orig_nbformat": 4,
  "vscode": {
   "interpreter": {
    "hash": "368184befd70de6859feb7ba7ed007b2fb115c321767e95f8823607adf146467"
   }
  }
 },
 "nbformat": 4,
 "nbformat_minor": 2
}
