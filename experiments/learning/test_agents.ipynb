{
 "cells": [
  {
   "cell_type": "code",
   "execution_count": 1,
   "metadata": {},
   "outputs": [
    {
     "name": "stderr",
     "output_type": "stream",
     "text": [
      "/home/mtrang/anaconda3/envs/drones/lib/python3.8/site-packages/tqdm/auto.py:22: TqdmWarning: IProgress not found. Please update jupyter and ipywidgets. See https://ipywidgets.readthedocs.io/en/stable/user_install.html\n",
      "  from .autonotebook import tqdm as notebook_tqdm\n",
      "pybullet build time: May 20 2022 19:44:17\n"
     ]
    }
   ],
   "source": [
    "\n",
    "\"\"\"Test script for single agent problems.\n",
    "\n",
    "This scripts runs the best model found by one of the executions of `singleagent.py`\n",
    "\n",
    "Example\n",
    "-------\n",
    "To run the script, type in a terminal:\n",
    "\n",
    "    $ python test_singleagent.py --exp ./results/save-<env>-<algo>-<obs>-<act>-<time_date>\n",
    "\n",
    "\"\"\"\n",
    "import os\n",
    "import time\n",
    "from datetime import datetime\n",
    "import argparse\n",
    "import re\n",
    "import numpy as np\n",
    "import gym\n",
    "import pprint\n",
    "import torch\n",
    "\n",
    "from gym_pybullet_drones.utils.utils import sync\n",
    "from gym_pybullet_drones.utils.Logger import Logger\n",
    "from gym_pybullet_drones.envs.single_agent_rl import NavigateLandAviary\n",
    "from gym_pybullet_drones.envs.single_agent_rl import map_name_to_env\n",
    "\n",
    "from gym_pybullet_drones.envs.single_agent_rl.BaseSingleAgentAviary import (\n",
    "    ActionType,\n",
    "    ObservationType,\n",
    ")\n",
    "import pybullet as p\n",
    "\n",
    "import shared_constants"
   ]
  },
  {
   "cell_type": "code",
   "execution_count": 2,
   "metadata": {},
   "outputs": [
    {
     "name": "stdout",
     "output_type": "stream",
     "text": [
      "[INFO] BaseAviary.__init__() loaded parameters from the drone's .urdf:\n",
      "[INFO] m 0.027000, L 0.039700,\n",
      "[INFO] ixx 0.000014, iyy 0.000014, izz 0.000022,\n",
      "[INFO] kf 0.000000, km 0.000000,\n",
      "[INFO] t2w 2.250000, max_speed_kmh 30.000000,\n",
      "[INFO] gnd_eff_coeff 11.368590, prop_radius 0.023135,\n",
      "[INFO] drag_xy_coeff 0.000001, drag_z_coeff 0.000001,\n",
      "[INFO] dw_coeff_1 2267.180000, dw_coeff_2 0.160000, dw_coeff_3 -0.110000\n",
      "viewMatrixstartThreads creating 1 threads.\n",
      "starting thread 0\n",
      "started thread 0 \n",
      "argc=2\n",
      "argv[0] = --unused\n",
      "argv[1] = --start_demo_name=Physics Server\n",
      "ExampleBrowserThreadFunc started\n",
      "X11 functions dynamically loaded using dlopen/dlsym OK!\n",
      "X11 functions dynamically loaded using dlopen/dlsym OK!\n",
      "Creating context\n",
      "Created GL 3.3 context\n",
      "Direct GLX rendering context obtained\n",
      "Making context current\n",
      "GL_VENDOR=NVIDIA Corporation\n",
      "GL_RENDERER=NVIDIA GeForce RTX 3070/PCIe/SSE2\n",
      "GL_VERSION=3.3.0 NVIDIA 470.141.03\n",
      "GL_SHADING_LANGUAGE_VERSION=3.30 NVIDIA via Cg compiler\n",
      "pthread_getconcurrency()=0\n",
      "Version = 3.3.0 NVIDIA 470.141.03\n",
      "Vendor = NVIDIA Corporation\n",
      "Renderer = NVIDIA GeForce RTX 3070/PCIe/SSE2\n",
      "b3Printf: Selected demo: Physics Server\n",
      "startThreads creating 1 threads.\n",
      "starting thread 0\n",
      "started thread 0 \n",
      "MotionThreadFunc thread started\n",
      " (-0.8660253882408142, -0.2499999701976776, 0.4330126941204071, 0.0, 0.0, 0.8660253286361694, 0.4999999701976776, 0.0, -0.4999999701976776, 0.4330126643180847, -0.75, 0.0, -0.0, 5.960464477539063e-08, -2.999999761581421, 1.0)\n",
      "projectionMatrix (1.0, 0.0, 0.0, 0.0, 0.0, 1.0, 0.0, 0.0, 0.0, 0.0, -1.0000200271606445, -1.0, 0.0, 0.0, -0.02000020071864128, 0.0)\n",
      "ven = NVIDIA Corporation\n"
     ]
    },
    {
     "name": "stderr",
     "output_type": "stream",
     "text": [
      "/home/mtrang/anaconda3/envs/drones/lib/python3.8/site-packages/gym/spaces/box.py:73: UserWarning: \u001b[33mWARN: Box bound precision lowered by casting to float32\u001b[0m\n",
      "  logger.warn(\n"
     ]
    },
    {
     "name": "stdout",
     "output_type": "stream",
     "text": [
      "ven = NVIDIA Corporation\n"
     ]
    },
    {
     "ename": "TypeError",
     "evalue": "'float' object cannot be interpreted as an integer",
     "output_type": "error",
     "traceback": [
      "\u001b[0;31m---------------------------------------------------------------------------\u001b[0m",
      "\u001b[0;31mTypeError\u001b[0m                                 Traceback (most recent call last)",
      "\u001b[1;32m/home/mtrang/Documents/vt/research/multiagent-pybullet-drones/experiments/learning/test_agents.ipynb Cell 2\u001b[0m in \u001b[0;36m<cell line: 10>\u001b[0;34m()\u001b[0m\n\u001b[1;32m      <a href='vscode-notebook-cell:/home/mtrang/Documents/vt/research/multiagent-pybullet-drones/experiments/learning/test_agents.ipynb#W1sZmlsZQ%3D%3D?line=7'>8</a>\u001b[0m landing_zone_xyz \u001b[39m=\u001b[39m [\u001b[39m3.5\u001b[39m, \u001b[39m3.5\u001b[39m, \u001b[39m0.0625\u001b[39m]\n\u001b[1;32m      <a href='vscode-notebook-cell:/home/mtrang/Documents/vt/research/multiagent-pybullet-drones/experiments/learning/test_agents.ipynb#W1sZmlsZQ%3D%3D?line=8'>9</a>\u001b[0m \u001b[39m#### Evaluate the model ####################################\u001b[39;00m\n\u001b[0;32m---> <a href='vscode-notebook-cell:/home/mtrang/Documents/vt/research/multiagent-pybullet-drones/experiments/learning/test_agents.ipynb#W1sZmlsZQ%3D%3D?line=9'>10</a>\u001b[0m env \u001b[39m=\u001b[39m gym\u001b[39m.\u001b[39;49mmake(\n\u001b[1;32m     <a href='vscode-notebook-cell:/home/mtrang/Documents/vt/research/multiagent-pybullet-drones/experiments/learning/test_agents.ipynb#W1sZmlsZQ%3D%3D?line=10'>11</a>\u001b[0m     env_name,\n\u001b[1;32m     <a href='vscode-notebook-cell:/home/mtrang/Documents/vt/research/multiagent-pybullet-drones/experiments/learning/test_agents.ipynb#W1sZmlsZQ%3D%3D?line=11'>12</a>\u001b[0m     aggregate_phy_steps\u001b[39m=\u001b[39;49mshared_constants\u001b[39m.\u001b[39;49mAGGR_PHY_STEPS,\n\u001b[1;32m     <a href='vscode-notebook-cell:/home/mtrang/Documents/vt/research/multiagent-pybullet-drones/experiments/learning/test_agents.ipynb#W1sZmlsZQ%3D%3D?line=12'>13</a>\u001b[0m     obs\u001b[39m=\u001b[39;49mOBS,\n\u001b[1;32m     <a href='vscode-notebook-cell:/home/mtrang/Documents/vt/research/multiagent-pybullet-drones/experiments/learning/test_agents.ipynb#W1sZmlsZQ%3D%3D?line=13'>14</a>\u001b[0m     act\u001b[39m=\u001b[39;49mACT,\n\u001b[1;32m     <a href='vscode-notebook-cell:/home/mtrang/Documents/vt/research/multiagent-pybullet-drones/experiments/learning/test_agents.ipynb#W1sZmlsZQ%3D%3D?line=14'>15</a>\u001b[0m     gui\u001b[39m=\u001b[39;49m\u001b[39mTrue\u001b[39;49;00m,\n\u001b[1;32m     <a href='vscode-notebook-cell:/home/mtrang/Documents/vt/research/multiagent-pybullet-drones/experiments/learning/test_agents.ipynb#W1sZmlsZQ%3D%3D?line=15'>16</a>\u001b[0m     initial_xyzs \u001b[39m=\u001b[39;49m [[\u001b[39m3.57\u001b[39;49m, \u001b[39m3.57\u001b[39;49m,\u001b[39m0.25\u001b[39;49m]],\n\u001b[1;32m     <a href='vscode-notebook-cell:/home/mtrang/Documents/vt/research/multiagent-pybullet-drones/experiments/learning/test_agents.ipynb#W1sZmlsZQ%3D%3D?line=16'>17</a>\u001b[0m     landing_zone_xyz \u001b[39m=\u001b[39;49m  landing_zone_xyz,\n\u001b[1;32m     <a href='vscode-notebook-cell:/home/mtrang/Documents/vt/research/multiagent-pybullet-drones/experiments/learning/test_agents.ipynb#W1sZmlsZQ%3D%3D?line=17'>18</a>\u001b[0m )\n\u001b[1;32m     <a href='vscode-notebook-cell:/home/mtrang/Documents/vt/research/multiagent-pybullet-drones/experiments/learning/test_agents.ipynb#W1sZmlsZQ%3D%3D?line=18'>19</a>\u001b[0m env\u001b[39m.\u001b[39mreset()\n",
      "File \u001b[0;32m~/anaconda3/envs/drones/lib/python3.8/site-packages/gym/envs/registration.py:235\u001b[0m, in \u001b[0;36mmake\u001b[0;34m(id, **kwargs)\u001b[0m\n\u001b[1;32m    234\u001b[0m \u001b[39mdef\u001b[39;00m \u001b[39mmake\u001b[39m(\u001b[39mid\u001b[39m, \u001b[39m*\u001b[39m\u001b[39m*\u001b[39mkwargs):\n\u001b[0;32m--> 235\u001b[0m     \u001b[39mreturn\u001b[39;00m registry\u001b[39m.\u001b[39;49mmake(\u001b[39mid\u001b[39;49m, \u001b[39m*\u001b[39;49m\u001b[39m*\u001b[39;49mkwargs)\n",
      "File \u001b[0;32m~/anaconda3/envs/drones/lib/python3.8/site-packages/gym/envs/registration.py:129\u001b[0m, in \u001b[0;36mEnvRegistry.make\u001b[0;34m(self, path, **kwargs)\u001b[0m\n\u001b[1;32m    127\u001b[0m     logger\u001b[39m.\u001b[39minfo(\u001b[39m\"\u001b[39m\u001b[39mMaking new env: \u001b[39m\u001b[39m%s\u001b[39;00m\u001b[39m\"\u001b[39m, path)\n\u001b[1;32m    128\u001b[0m spec \u001b[39m=\u001b[39m \u001b[39mself\u001b[39m\u001b[39m.\u001b[39mspec(path)\n\u001b[0;32m--> 129\u001b[0m env \u001b[39m=\u001b[39m spec\u001b[39m.\u001b[39;49mmake(\u001b[39m*\u001b[39;49m\u001b[39m*\u001b[39;49mkwargs)\n\u001b[1;32m    130\u001b[0m \u001b[39mreturn\u001b[39;00m env\n",
      "File \u001b[0;32m~/anaconda3/envs/drones/lib/python3.8/site-packages/gym/envs/registration.py:90\u001b[0m, in \u001b[0;36mEnvSpec.make\u001b[0;34m(self, **kwargs)\u001b[0m\n\u001b[1;32m     88\u001b[0m \u001b[39melse\u001b[39;00m:\n\u001b[1;32m     89\u001b[0m     \u001b[39mcls\u001b[39m \u001b[39m=\u001b[39m load(\u001b[39mself\u001b[39m\u001b[39m.\u001b[39mentry_point)\n\u001b[0;32m---> 90\u001b[0m     env \u001b[39m=\u001b[39m \u001b[39mcls\u001b[39;49m(\u001b[39m*\u001b[39;49m\u001b[39m*\u001b[39;49m_kwargs)\n\u001b[1;32m     92\u001b[0m \u001b[39m# Make the environment aware of which spec it came from.\u001b[39;00m\n\u001b[1;32m     93\u001b[0m spec \u001b[39m=\u001b[39m copy\u001b[39m.\u001b[39mdeepcopy(\u001b[39mself\u001b[39m)\n",
      "File \u001b[0;32m~/Documents/vt/research/multiagent-pybullet-drones/gym_pybullet_drones/envs/single_agent_rl/CrossObstaclesAviary.py:89\u001b[0m, in \u001b[0;36mCrossObstaclesAviary.__init__\u001b[0;34m(self, drone_model, initial_xyzs, initial_rpys, physics, freq, aggregate_phy_steps, gui, record, obs, act, landing_zone_xyz, landing_zone_wlh, reward_components, term_components, bounds)\u001b[0m\n\u001b[1;32m     86\u001b[0m     \u001b[39melse\u001b[39;00m:\n\u001b[1;32m     87\u001b[0m         \u001b[39mself\u001b[39m\u001b[39m.\u001b[39mterm_components\u001b[39m.\u001b[39mappend(t_class())\n\u001b[0;32m---> 89\u001b[0m \u001b[39msuper\u001b[39;49m()\u001b[39m.\u001b[39;49m\u001b[39m__init__\u001b[39;49m(\n\u001b[1;32m     90\u001b[0m     drone_model\u001b[39m=\u001b[39;49mdrone_model,\n\u001b[1;32m     91\u001b[0m     initial_xyzs\u001b[39m=\u001b[39;49minitial_xyzs,\n\u001b[1;32m     92\u001b[0m     initial_rpys\u001b[39m=\u001b[39;49minitial_rpys,\n\u001b[1;32m     93\u001b[0m     physics\u001b[39m=\u001b[39;49mphysics,\n\u001b[1;32m     94\u001b[0m     freq\u001b[39m=\u001b[39;49mfreq,\n\u001b[1;32m     95\u001b[0m     aggregate_phy_steps\u001b[39m=\u001b[39;49maggregate_phy_steps,\n\u001b[1;32m     96\u001b[0m     gui\u001b[39m=\u001b[39;49mgui,\n\u001b[1;32m     97\u001b[0m     record\u001b[39m=\u001b[39;49mrecord,\n\u001b[1;32m     98\u001b[0m     obs\u001b[39m=\u001b[39;49mobs,\n\u001b[1;32m     99\u001b[0m     act\u001b[39m=\u001b[39;49mact,\n\u001b[1;32m    100\u001b[0m )\n\u001b[1;32m    102\u001b[0m \u001b[39m# override base aviary episode length\u001b[39;00m\n\u001b[1;32m    103\u001b[0m \u001b[39mself\u001b[39m\u001b[39m.\u001b[39mEPISODE_LEN_SEC \u001b[39m=\u001b[39m \u001b[39m10\u001b[39m\n",
      "File \u001b[0;32m~/Documents/vt/research/multiagent-pybullet-drones/gym_pybullet_drones/envs/single_agent_rl/BaseSingleAgentAviary.py:138\u001b[0m, in \u001b[0;36mBaseSingleAgentAviary.__init__\u001b[0;34m(self, drone_model, initial_xyzs, initial_rpys, physics, freq, aggregate_phy_steps, gui, record, obs, act)\u001b[0m\n\u001b[1;32m    134\u001b[0m     \u001b[39melse\u001b[39;00m:\n\u001b[1;32m    135\u001b[0m         \u001b[39mprint\u001b[39m(\n\u001b[1;32m    136\u001b[0m             \u001b[39m\"\u001b[39m\u001b[39m[ERROR] in BaseSingleAgentAviary.__init()__, no controller is available for the specified drone_model\u001b[39m\u001b[39m\"\u001b[39m\n\u001b[1;32m    137\u001b[0m         )\n\u001b[0;32m--> 138\u001b[0m \u001b[39msuper\u001b[39;49m()\u001b[39m.\u001b[39;49m\u001b[39m__init__\u001b[39;49m(\n\u001b[1;32m    139\u001b[0m     drone_model\u001b[39m=\u001b[39;49mdrone_model,\n\u001b[1;32m    140\u001b[0m     num_drones\u001b[39m=\u001b[39;49m\u001b[39m1\u001b[39;49m,\n\u001b[1;32m    141\u001b[0m     initial_xyzs\u001b[39m=\u001b[39;49minitial_xyzs,\n\u001b[1;32m    142\u001b[0m     initial_rpys\u001b[39m=\u001b[39;49minitial_rpys,\n\u001b[1;32m    143\u001b[0m     physics\u001b[39m=\u001b[39;49mphysics,\n\u001b[1;32m    144\u001b[0m     freq\u001b[39m=\u001b[39;49mfreq,\n\u001b[1;32m    145\u001b[0m     aggregate_phy_steps\u001b[39m=\u001b[39;49maggregate_phy_steps,\n\u001b[1;32m    146\u001b[0m     gui\u001b[39m=\u001b[39;49mgui,\n\u001b[1;32m    147\u001b[0m     record\u001b[39m=\u001b[39;49mrecord,\n\u001b[1;32m    148\u001b[0m     obstacles\u001b[39m=\u001b[39;49m\u001b[39mTrue\u001b[39;49;00m,  \u001b[39m# Add obstacles for RGB observations and/or FlyThruGate\u001b[39;49;00m\n\u001b[1;32m    149\u001b[0m     user_debug_gui\u001b[39m=\u001b[39;49m\u001b[39mFalse\u001b[39;49;00m,  \u001b[39m# Remove of RPM sliders from all single agent learning aviaries\u001b[39;49;00m\n\u001b[1;32m    150\u001b[0m     vision_attributes\u001b[39m=\u001b[39;49mvision_attributes,\n\u001b[1;32m    151\u001b[0m     dynamics_attributes\u001b[39m=\u001b[39;49mdynamics_attributes,\n\u001b[1;32m    152\u001b[0m )\n\u001b[1;32m    153\u001b[0m \u001b[39m#### Set a limit on the maximum target speed ###############\u001b[39;00m\n\u001b[1;32m    154\u001b[0m \u001b[39mif\u001b[39;00m act \u001b[39m==\u001b[39m ActionType\u001b[39m.\u001b[39mVEL:\n",
      "File \u001b[0;32m~/Documents/vt/research/multiagent-pybullet-drones/gym_pybullet_drones/envs/BaseAviary.py:345\u001b[0m, in \u001b[0;36mBaseAviary.__init__\u001b[0;34m(self, drone_model, num_drones, neighbourhood_radius, initial_xyzs, initial_rpys, physics, freq, aggregate_phy_steps, gui, record, obstacles, user_debug_gui, vision_attributes, dynamics_attributes)\u001b[0m\n\u001b[1;32m    343\u001b[0m \u001b[39mself\u001b[39m\u001b[39m.\u001b[39mobservation_space \u001b[39m=\u001b[39m \u001b[39mself\u001b[39m\u001b[39m.\u001b[39m_observationSpace()\n\u001b[1;32m    344\u001b[0m \u001b[39m#### Housekeeping ##########################################\u001b[39;00m\n\u001b[0;32m--> 345\u001b[0m \u001b[39mself\u001b[39;49m\u001b[39m.\u001b[39;49m_housekeeping()\n\u001b[1;32m    346\u001b[0m \u001b[39m#### Update and store the drones kinematic information #####\u001b[39;00m\n\u001b[1;32m    347\u001b[0m \u001b[39mself\u001b[39m\u001b[39m.\u001b[39m_updateAndStoreKinematicInformation()\n",
      "File \u001b[0;32m~/Documents/vt/research/multiagent-pybullet-drones/gym_pybullet_drones/envs/BaseAviary.py:652\u001b[0m, in \u001b[0;36mBaseAviary._housekeeping\u001b[0;34m(self)\u001b[0m\n\u001b[1;32m    648\u001b[0m     \u001b[39m#### Disable collisions between drones' and the ground plane\u001b[39;00m\n\u001b[1;32m    649\u001b[0m     \u001b[39m#### E.g., to start a drone at [0,0,0] #####################\u001b[39;00m\n\u001b[1;32m    650\u001b[0m     \u001b[39m# p.setCollisionFilterPair(bodyUniqueIdA=self.PLANE_ID, bodyUniqueIdB=self.DRONE_IDS[i], linkIndexA=-1, linkIndexB=-1, enableCollision=0, physicsClientId=self.CLIENT)\u001b[39;00m\n\u001b[1;32m    651\u001b[0m \u001b[39mif\u001b[39;00m \u001b[39mself\u001b[39m\u001b[39m.\u001b[39mOBSTACLES:\n\u001b[0;32m--> 652\u001b[0m     \u001b[39mself\u001b[39;49m\u001b[39m.\u001b[39;49m_addObstacles()\n",
      "File \u001b[0;32m~/Documents/vt/research/multiagent-pybullet-drones/gym_pybullet_drones/envs/single_agent_rl/CrossObstaclesAviary.py:131\u001b[0m, in \u001b[0;36mCrossObstaclesAviary._addObstacles\u001b[0;34m(self)\u001b[0m\n\u001b[1;32m    129\u001b[0m box_q \u001b[39m=\u001b[39m p\u001b[39m.\u001b[39mgetQuaternionFromEuler([\u001b[39m0\u001b[39m, \u001b[39m1.57057\u001b[39m, \u001b[39m0\u001b[39m])\n\u001b[1;32m    130\u001b[0m \u001b[39mfor\u001b[39;00m i \u001b[39min\u001b[39;00m \u001b[39mrange\u001b[39m(\u001b[39m1\u001b[39m, \u001b[39m2\u001b[39m):\n\u001b[0;32m--> 131\u001b[0m     \u001b[39mfor\u001b[39;00m j \u001b[39min\u001b[39;00m \u001b[39mrange\u001b[39;49m(\u001b[39m-\u001b[39;49m\u001b[39m1\u001b[39;49m, \u001b[39m1\u001b[39;49m, \u001b[39m0.5\u001b[39;49m):\n\u001b[1;32m    132\u001b[0m         box_pos \u001b[39m=\u001b[39m [i, j, \u001b[39m0.5\u001b[39m]\n\u001b[1;32m    133\u001b[0m         p\u001b[39m.\u001b[39mloadURDF(\n\u001b[1;32m    134\u001b[0m             \u001b[39m\"\u001b[39m\u001b[39mblock.urdf\u001b[39m\u001b[39m\"\u001b[39m,\n\u001b[1;32m    135\u001b[0m             box_pos,\n\u001b[0;32m   (...)\u001b[0m\n\u001b[1;32m    139\u001b[0m             globalScaling\u001b[39m=\u001b[39m\u001b[39m10\u001b[39m,\n\u001b[1;32m    140\u001b[0m         )\n",
      "\u001b[0;31mTypeError\u001b[0m: 'float' object cannot be interpreted as an integer"
     ]
    },
    {
     "ename": "",
     "evalue": "",
     "output_type": "error",
     "traceback": [
      "\u001b[1;31mThe Kernel crashed while executing code in the the current cell or a previous cell. Please review the code in the cell(s) to identify a possible cause of the failure. Click <a href='https://aka.ms/vscodeJupyterKernelCrash'>here</a> for more info. View Jupyter <a href='command:jupyter.viewOutput'>log</a> for further details."
     ]
    }
   ],
   "source": [
    "\n",
    "#env_name = \"land-aviary-v0\"\n",
    "env_name = \"cross-obstacles-aviary-v0\"\n",
    "\n",
    "OBS = (\n",
    "    ObservationType[\"KIN\"]\n",
    ")\n",
    "ACT = ActionType[\"RPM\"]\n",
    "landing_zone_xyz = [3.5, 3.5, 0.0625]\n",
    "#### Evaluate the model ####################################\n",
    "env = gym.make(\n",
    "    env_name,\n",
    "    aggregate_phy_steps=shared_constants.AGGR_PHY_STEPS,\n",
    "    obs=OBS,\n",
    "    act=ACT,\n",
    "    gui=True,\n",
    "    initial_xyzs = [0, 0, 0.25]],\n",
    "    landing_zone_xyz =  landing_zone_xyz,\n",
    ")\n",
    "env.reset()"
   ]
  },
  {
   "cell_type": "code",
   "execution_count": null,
   "metadata": {},
   "outputs": [
    {
     "ename": "",
     "evalue": "",
     "output_type": "error",
     "traceback": [
      "\u001b[1;31mThe Kernel crashed while executing code in the the current cell or a previous cell. Please review the code in the cell(s) to identify a possible cause of the failure. Click <a href='https://aka.ms/vscodeJupyterKernelCrash'>here</a> for more info. View Jupyter <a href='command:jupyter.viewOutput'>log</a> for further details."
     ]
    }
   ],
   "source": [
    "env.reset()"
   ]
  },
  {
   "cell_type": "code",
   "execution_count": null,
   "metadata": {},
   "outputs": [],
   "source": [
    "\n",
    "done = False\n",
    "while not done:\n",
    "    env.render()\n",
    "    action = env.action_space.sample()\n",
    "    action = -1 * np.ones_like(action)\n",
    "    time.sleep(0.05)\n",
    "    obs, reward, done, info = env.step(action)\n",
    "    if done:\n",
    "        env.reset()\n"
   ]
  },
  {
   "cell_type": "code",
   "execution_count": null,
   "metadata": {},
   "outputs": [],
   "source": [
    "p.loadURDF(\"cube.urdf\", [0, 0, 0.5], physicsClientId=env.CLIENT)"
   ]
  },
  {
   "cell_type": "markdown",
   "metadata": {},
   "source": [
    "#Single Step of env and print state"
   ]
  },
  {
   "cell_type": "code",
   "execution_count": null,
   "metadata": {},
   "outputs": [],
   "source": [
    "\n",
    "action = env.action_space.sample()\n",
    "action = -1 * np.ones_like(action)\n",
    "for i in range(20):\n",
    "    time.sleep(0.05)\n",
    "    obs, reward, done, info = env.step(action)\n",
    "    state = env.getFirstDroneState()\n",
    "    print(f\"action: {action}\")\n",
    "    print(f\"obs: {obs}\")\n",
    "    print(f\"reward: {reward}\")\n",
    "    print(f\"done: {done}\")\n",
    "    print(f\"state: {state}\")\n",
    "    env.render()\n"
   ]
  },
  {
   "cell_type": "code",
   "execution_count": null,
   "metadata": {},
   "outputs": [],
   "source": [
    "# try and flip\n",
    "action = env.action_space.sample()\n",
    "action = -1 * np.ones_like(action)\n",
    "action[0] = 1\n",
    "action[2] = 1\n",
    "print(action)\n",
    "for i in range(5):\n",
    "    time.sleep(0.05)\n",
    "    obs, reward, done, info = env.step(action)\n",
    "    state = env.getFirstDroneState()\n",
    "    print(f\"action: {action}\")\n",
    "    print(f\"obs: {obs}\")\n",
    "    print(f\"reward: {reward}\")\n",
    "    print(f\"done: {done}\")\n",
    "    print(f\"state: {state}\")\n",
    "    env.render()"
   ]
  },
  {
   "cell_type": "code",
   "execution_count": null,
   "metadata": {},
   "outputs": [],
   "source": [
    "\n",
    "landing_zone_xyz = [3.5, 3.5, 0.0625]\n",
    "position = state[0:3]\n",
    "print(position)\n",
    "target_position = landing_zone_xyz\n",
    "pos_dist = np.linalg.norm(position[0:2] - target_position[0:2])\n",
    "print(pos_dist)\n",
    "\n",
    "y_dist = np.linalg.norm(position[2] - (target_position[2] - 0.1))\n",
    "print(y_dist)"
   ]
  },
  {
   "cell_type": "code",
   "execution_count": null,
   "metadata": {},
   "outputs": [],
   "source": [
    "\n",
    "rpy = state[7:10]\n",
    "print(rpy)"
   ]
  },
  {
   "cell_type": "code",
   "execution_count": null,
   "metadata": {},
   "outputs": [],
   "source": [
    "# Change initial position of the drones"
   ]
  },
  {
   "cell_type": "code",
   "execution_count": null,
   "metadata": {},
   "outputs": [],
   "source": [
    "env.reset()\n",
    "p.resetSimulation()"
   ]
  }
 ],
 "metadata": {
  "kernelspec": {
   "display_name": "Python 3.8.13 ('drones')",
   "language": "python",
   "name": "python3"
  },
  "language_info": {
   "codemirror_mode": {
    "name": "ipython",
    "version": 3
   },
   "file_extension": ".py",
   "mimetype": "text/x-python",
   "name": "python",
   "nbconvert_exporter": "python",
   "pygments_lexer": "ipython3",
   "version": "3.8.13"
  },
  "orig_nbformat": 4,
  "vscode": {
   "interpreter": {
    "hash": "368184befd70de6859feb7ba7ed007b2fb115c321767e95f8823607adf146467"
   }
  }
 },
 "nbformat": 4,
 "nbformat_minor": 2
}
