{
 "cells": [
  {
   "cell_type": "code",
   "execution_count": 1,
   "metadata": {},
   "outputs": [
    {
     "name": "stderr",
     "output_type": "stream",
     "text": [
      "pybullet build time: May 20 2022 19:44:17\n"
     ]
    }
   ],
   "source": [
    "\n",
    "\"\"\"Test script for single agent problems.\n",
    "\n",
    "This scripts runs the best model found by one of the executions of `singleagent.py`\n",
    "\n",
    "Example\n",
    "-------\n",
    "To run the script, type in a terminal:\n",
    "\n",
    "    $ python test_singleagent.py --exp ./results/save-<env>-<algo>-<obs>-<act>-<time_date>\n",
    "\n",
    "\"\"\"\n",
    "import os\n",
    "import time\n",
    "from datetime import datetime\n",
    "import argparse\n",
    "import re\n",
    "import numpy as np\n",
    "import gym\n",
    "import pprint\n",
    "import torch\n",
    "\n",
    "from gym_pybullet_drones.utils.utils import sync\n",
    "from gym_pybullet_drones.utils.Logger import Logger\n",
    "from gym_pybullet_drones.envs.single_agent_rl import NavigateLandAviary\n",
    "from gym_pybullet_drones.envs.single_agent_rl import map_name_to_env\n",
    "\n",
    "from gym_pybullet_drones.envs.single_agent_rl.BaseSingleAgentAviary import (\n",
    "    ActionType,\n",
    "    ObservationType,\n",
    ")\n",
    "import pybullet as p\n",
    "import pybullet_data\n",
    "\n",
    "import shared_constants"
   ]
  },
  {
   "cell_type": "code",
   "execution_count": 2,
   "metadata": {},
   "outputs": [
    {
     "name": "stdout",
     "output_type": "stream",
     "text": [
      "[INFO] BaseAviary.__init__() loaded parameters from the drone's .urdf:\n",
      "[INFO] m 0.027000, L 0.039700,\n",
      "[INFO] ixx 0.000014, iyy 0.000014, izz 0.000022,\n",
      "[INFO] kf 0.000000, km 0.000000,\n",
      "[INFO] t2w 2.250000, max_speed_kmh 30.000000,\n",
      "[INFO] gnd_eff_coeff 11.368590, prop_radius 0.023135,\n",
      "[INFO] drag_xy_coeff 0.000001, drag_z_coeff 0.000001,\n",
      "[INFO] dw_coeff_1 2267.180000, dw_coeff_2 0.160000, dw_coeff_3 -0.110000\n",
      "startThreads creating 1 threads.\n",
      "starting thread 0\n",
      "viewMatrix (-0.0, -0.6427876353263855, 0.7660444378852844, 0.0, 0.0, 0.7660444378852844, 0.6427876353263855, 0.0, -1.0, 0.0, -0.0, 0.0, -0.0, 1.2855751514434814, -6.5320892333984375, 1.0)\n",
      "projectionMatrix (1.0, 0.0, 0.0, 0.0, 0.0, 1.0, 0.0, 0.0, 0.0, 0.0, -1.0000200271606445, -1.0, 0.0, 0.0, -0.02000020071864128, 0.0)\n",
      "started thread 0 \n",
      "argc=2\n",
      "argv[0] = --unused\n",
      "argv[1] = --start_demo_name=Physics Server\n",
      "ExampleBrowserThreadFunc started\n",
      "X11 functions dynamically loaded using dlopen/dlsym OK!\n",
      "X11 functions dynamically loaded using dlopen/dlsym OK!\n",
      "Creating context\n",
      "Created GL 3.3 context\n",
      "Direct GLX rendering context obtained\n",
      "Making context current\n",
      "GL_VENDOR=NVIDIA Corporation\n",
      "GL_RENDERER=NVIDIA GeForce RTX 3070/PCIe/SSE2\n",
      "GL_VERSION=3.3.0 NVIDIA 470.141.03\n",
      "GL_SHADING_LANGUAGE_VERSION=3.30 NVIDIA via Cg compiler\n",
      "pthread_getconcurrency()=0\n",
      "Version = 3.3.0 NVIDIA 470.141.03\n",
      "Vendor = NVIDIA Corporation\n",
      "Renderer = NVIDIA GeForce RTX 3070/PCIe/SSE2\n",
      "b3Printf: Selected demo: Physics Server\n",
      "startThreads creating 1 threads.\n",
      "starting thread 0\n",
      "started thread 0 \n",
      "MotionThreadFunc thread started\n",
      "ven = NVIDIA Corporation\n"
     ]
    },
    {
     "name": "stderr",
     "output_type": "stream",
     "text": [
      "/home/mtrang/anaconda3/envs/drones/lib/python3.8/site-packages/gym/spaces/box.py:73: UserWarning: \u001b[33mWARN: Box bound precision lowered by casting to float32\u001b[0m\n",
      "  logger.warn(\n"
     ]
    },
    {
     "name": "stdout",
     "output_type": "stream",
     "text": [
      "ven = NVIDIA Corporation\n"
     ]
    },
    {
     "data": {
      "text/plain": [
       "array([-0.01666667,  0.        ,  0.05      ,  0.        , -0.        ,\n",
       "        0.        ,  0.        ,  0.        ,  0.        ,  0.        ,\n",
       "        0.        ,  0.        ], dtype=float32)"
      ]
     },
     "execution_count": 2,
     "metadata": {},
     "output_type": "execute_result"
    }
   ],
   "source": [
    "\n",
    "#env_name = \"land-aviary-v0\"\n",
    "env_name = \"cross-obstacles-aviary-v0\"\n",
    "#env_name = \"room-aviary-v0\"\n",
    "\n",
    "OBS = (\n",
    "    ObservationType[\"KIN\"]\n",
    ")\n",
    "ACT = ActionType[\"RPM\"]\n",
    "landing_zone_xyz = [3.5, 3.5, 0.0625]\n",
    "#### Evaluate the model ####################################\n",
    "env = gym.make(\n",
    "    env_name,\n",
    "    aggregate_phy_steps=shared_constants.AGGR_PHY_STEPS,\n",
    "    obs=OBS,\n",
    "    act=ACT,\n",
    "    gui=True,\n",
    "    initial_xyzs = [-0.5, 0, .5],\n",
    ")\n",
    "env.reset()"
   ]
  },
  {
   "cell_type": "code",
   "execution_count": 6,
   "metadata": {},
   "outputs": [
    {
     "data": {
      "text/plain": [
       "array([-0.01666667,  0.        ,  0.05      ,  0.        , -0.        ,\n",
       "        0.        ,  0.        ,  0.        ,  0.        ,  0.        ,\n",
       "        0.        ,  0.        ], dtype=float32)"
      ]
     },
     "execution_count": 6,
     "metadata": {},
     "output_type": "execute_result"
    }
   ],
   "source": [
    "env.reset()"
   ]
  },
  {
   "cell_type": "code",
   "execution_count": null,
   "metadata": {},
   "outputs": [],
   "source": [
    "\n",
    "done = False\n",
    "while not done:\n",
    "    env.render()\n",
    "    action = env.action_space.sample()\n",
    "    action = -1 * np.ones_like(action)\n",
    "    time.sleep(0.05)\n",
    "    obs, reward, done, info = env.step(action)\n",
    "    if done:\n",
    "        env.reset()\n"
   ]
  },
  {
   "cell_type": "code",
   "execution_count": 9,
   "metadata": {},
   "outputs": [
    {
     "name": "stdout",
     "output_type": "stream",
     "text": [
      "6\n"
     ]
    },
    {
     "ename": "",
     "evalue": "",
     "output_type": "error",
     "traceback": [
      "\u001b[1;31mThe Kernel crashed while executing code in the the current cell or a previous cell. Please review the code in the cell(s) to identify a possible cause of the failure. Click <a href='https://aka.ms/vscodeJupyterKernelCrash'>here</a> for more info. View Jupyter <a href='command:jupyter.viewOutput'>log</a> for further details."
     ]
    }
   ],
   "source": [
    "#p.loadURDF(\"../../gym_pybullet_drones/assets/two_corner_room.urdf\", [7, -4, 0], physicsClientId=env.CLIENT)\n",
    "p.loadURDF(\"../../gym_pybullet_drones/assets/wider_room.urdf\", [7, -1.5, 0], physicsClientId=env.CLIENT, globalScaling=1)\n",
    "#p.removeBody(0)\n",
    "#id =p.loadSDF(\"stadium.sdf\", physicsClientId=env.CLIENT)\n",
    "# a1 is a robot\n",
    "print(id)"
   ]
  },
  {
   "cell_type": "code",
   "execution_count": 11,
   "metadata": {},
   "outputs": [
    {
     "data": {
      "text/plain": [
       "10"
      ]
     },
     "execution_count": 11,
     "metadata": {},
     "output_type": "execute_result"
    }
   ],
   "source": [
    "\n",
    "p.loadURDF(\"table/table.urdf\", [5, 0.5, 0], baseOrientation = [0, 0, 1, 1], physicsClientId=env.CLIENT)\n",
    "p.loadURDF(\"table_square/table_square.urdf\", [6.5, 0, 0], physicsClientId=env.CLIENT)"
   ]
  },
  {
   "cell_type": "code",
   "execution_count": 10,
   "metadata": {},
   "outputs": [
    {
     "name": "stdout",
     "output_type": "stream",
     "text": [
      "7\n",
      "7\n"
     ]
    }
   ],
   "source": [
    "\n",
    "id = p.loadURDF(\"../../gym_pybullet_drones/assets/tv_stand.urdf\", [3, 0.5, 0], physicsClientId=env.CLIENT, globalScaling=1)\n",
    "print(id)\n",
    "id1 = p.loadURDF(\"../../gym_pybullet_drones/assets/chairs/couch.urdf\", [0.7, 0.9, 0], physicsClientId=env.CLIENT, globalScaling=0.7)\n",
    "print(id)"
   ]
  },
  {
   "cell_type": "code",
   "execution_count": 9,
   "metadata": {},
   "outputs": [],
   "source": [
    "\n",
    "id1 = p.loadURDF(\"../../gym_pybullet_drones/assets/chairs/chair.urdf\", [2, -0.7, 0],baseOrientation = [0, 0, -1, 1], physicsClientId=env.CLIENT, globalScaling=1)"
   ]
  },
  {
   "cell_type": "code",
   "execution_count": 8,
   "metadata": {},
   "outputs": [],
   "source": [
    "\n",
    "id1 = p.loadURDF(\"../../gym_pybullet_drones/assets/kit_chair.urdf\", [5, -0.7, 0],baseOrientation = [0, 0, 2, 1], physicsClientId=env.CLIENT, globalScaling=0.01)\n",
    "id1 = p.loadURDF(\"../../gym_pybullet_drones/assets/kit_chair.urdf\", [4.5, .4, 0],baseOrientation = [0, 0, 1, 1], physicsClientId=env.CLIENT, globalScaling=0.01)"
   ]
  },
  {
   "cell_type": "code",
   "execution_count": 7,
   "metadata": {},
   "outputs": [],
   "source": [
    "\n",
    "id1 = p.loadURDF(\"../../gym_pybullet_drones/assets/dresser.urdf\", [3.1, 1., 0.1],baseOrientation = [0, 0, 0, 1], physicsClientId=env.CLIENT, globalScaling=0.15)"
   ]
  },
  {
   "cell_type": "code",
   "execution_count": 3,
   "metadata": {},
   "outputs": [],
   "source": [
    "id1 = p.loadURDF(\"../../gym_pybullet_drones/assets/lamp/lamp.urdf\", [2.5, -0.7, 0.0],baseOrientation = [0, 0, 0, 1], physicsClientId=env.CLIENT, globalScaling=0.8)"
   ]
  },
  {
   "cell_type": "code",
   "execution_count": 5,
   "metadata": {},
   "outputs": [
    {
     "data": {
      "text/plain": [
       "14"
      ]
     },
     "execution_count": 5,
     "metadata": {},
     "output_type": "execute_result"
    },
    {
     "name": "stdout",
     "output_type": "stream",
     "text": [
      "numActiveThreads = 0\n",
      "stopping threads\n",
      "Thread with taskId 0 exiting\n",
      "Thread TERMINATED\n",
      "destroy semaphore\n",
      "semaphore destroyed\n",
      "destroy main semaphore\n",
      "main semaphore destroyed\n",
      "finished\n"
     ]
    }
   ],
   "source": [
    "p.loadURDF(\"table/table.urdf\", [1, 0., 0], baseOrientation = [0, 0, 0, 1], physicsClientId=env.CLIENT, globalScaling=0.7)"
   ]
  },
  {
   "cell_type": "code",
   "execution_count": 8,
   "metadata": {},
   "outputs": [],
   "source": [
    "\n",
    "p.loadURDF(\"table_square/table_square.urdf\", [6.5, 0, 0], physicsClientId=env.CLIENT)\n",
    "\n",
    "id1 = p.loadURDF(\"../../gym_pybullet_drones/assets/dresser.urdf\", [2.1, 1., 0.1],baseOrientation = [0, 0, 0, 1], physicsClientId=env.CLIENT, globalScaling=0.15)\n",
    "id1 = p.loadURDF(\"../../gym_pybullet_drones/assets/dresser.urdf\", [2.1, 0., 0.1],baseOrientation = [0, 0, -1, 1], physicsClientId=env.CLIENT, globalScaling=0.15)\n",
    "id = p.loadURDF(\"../../gym_pybullet_drones/assets/tv_stand.urdf\", [3, 0.5, 0], baseOrientation=[0,0,1, 1], physicsClientId=env.CLIENT, globalScaling=1)\n",
    "id = p.loadURDF(\"../../gym_pybullet_drones/assets/tv_stand.urdf\", [1, 0.5, 0], baseOrientation=[0,0,1, 1], physicsClientId=env.CLIENT, globalScaling=1)\n",
    "\n",
    "id1 = p.loadURDF(\"../../gym_pybullet_drones/assets/lamp/lamp.urdf\", [2.5, -0.7, 0.0],baseOrientation = [0, 0, 0, 1], physicsClientId=env.CLIENT, globalScaling=0.8)\n",
    "id1 = p.loadURDF(\"../../gym_pybullet_drones/assets/lamp/lamp.urdf\", [4.5, -0.7, 0.0],baseOrientation = [0, 0, 0, 1], physicsClientId=env.CLIENT, globalScaling=0.8)\n",
    "id1 = p.loadURDF(\"../../gym_pybullet_drones/assets/lamp/lamp.urdf\", [.5, -0.7, 0.0],baseOrientation = [0, 0, 0, 1], physicsClientId=env.CLIENT, globalScaling=0.8)\n",
    "id1 = p.loadURDF(\"../../gym_pybullet_drones/assets/lamp/lamp.urdf\", [5.5, 0., 0.0],baseOrientation = [0, 0, 0, 1], physicsClientId=env.CLIENT, globalScaling=0.8)"
   ]
  },
  {
   "cell_type": "code",
   "execution_count": 7,
   "metadata": {},
   "outputs": [],
   "source": [
    "p.removeBody(2)"
   ]
  },
  {
   "cell_type": "code",
   "execution_count": 6,
   "metadata": {},
   "outputs": [],
   "source": [
    "p.removeBody(id1)"
   ]
  },
  {
   "cell_type": "markdown",
   "metadata": {},
   "source": [
    "#Single Step of env and print state"
   ]
  },
  {
   "cell_type": "code",
   "execution_count": null,
   "metadata": {},
   "outputs": [],
   "source": [
    "\n",
    "action = env.action_space.sample()\n",
    "action = -1 * np.ones_like(action)\n",
    "for i in range(100):\n",
    "    time.sleep(0.02)\n",
    "    obs, reward, done, info = env.step(action)\n",
    "    state = env.getFirstDroneState()\n",
    "    print(f\"action: {action}\")\n",
    "    print(f\"obs: {obs}\")\n",
    "    print(f\"reward: {reward}\")\n",
    "    print(f\"done: {done}\")\n",
    "    print(f\"state: {state}\")\n",
    "    env.render()\n"
   ]
  },
  {
   "cell_type": "code",
   "execution_count": 17,
   "metadata": {},
   "outputs": [
    {
     "name": "stdout",
     "output_type": "stream",
     "text": [
      "[-1. -1.  1.  1.]\n",
      "[WARNING] it 125 in NavigateMazeAviary._clipAndNormalizeState(), clipped z velocity [-1.20]\n",
      "action: [-1. -1.  1.  1.]\n",
      "obs: [ 0.         -0.00908796  0.06283719 -0.7397259  -0.          0.\n",
      "  0.          0.04953086 -0.33333334 -1.          0.          0.        ]\n",
      "reward: 0.0\n",
      "done: True\n",
      "state: [ 0.00000000e+00 -2.72638831e-01  6.28371889e-01  9.17583522e-01\n",
      "  0.00000000e+00  0.00000000e+00 -3.97543055e-01 -2.32391733e+00\n",
      " -0.00000000e+00  0.00000000e+00  0.00000000e+00  1.48592595e-01\n",
      " -1.20236781e+00 -1.63649480e+01  0.00000000e+00  0.00000000e+00\n",
      "  1.37450068e+04  1.37450068e+04  1.51918496e+04  1.51918496e+04]\n",
      "\n",
      "[INFO] BaseAviary.render() ——— it 0130 ——— wall-clock time 139.7s, simulation time 0.5s@240Hz (0.00x)\n",
      "[INFO] BaseAviary.render() ——— drone 0 ——— x +00.00, y -00.27, z +00.63 ——— velocity +00.00, +00.15, -01.20 ——— roll -133.15, pitch -00.00, yaw +00.00 ——— angular velocity -16.3649, +0.0000, +0.0000 ——— \n",
      "[WARNING] it 130 in NavigateMazeAviary._clipAndNormalizeState(), clipped z velocity [-1.55]\n",
      "action: [-1. -1.  1.  1.]\n",
      "obs: [ 0.         -0.00892431  0.05990153 -0.85165733 -0.          0.\n",
      "  0.          0.09557941 -0.33333334 -1.          0.          0.        ]\n",
      "reward: 0.0\n",
      "done: True\n",
      "state: [ 0.00000000e+00 -2.67729356e-01  5.99015315e-01  9.72974351e-01\n",
      "  0.00000000e+00  0.00000000e+00 -2.30913212e-01 -2.67556034e+00\n",
      " -0.00000000e+00  0.00000000e+00  0.00000000e+00  2.86738225e-01\n",
      " -1.55321017e+00 -1.72181670e+01  0.00000000e+00  0.00000000e+00\n",
      "  1.37450068e+04  1.37450068e+04  1.51918496e+04  1.51918496e+04]\n",
      "\n",
      "[INFO] BaseAviary.render() ——— it 0135 ——— wall-clock time 139.7s, simulation time 0.6s@240Hz (0.00x)\n",
      "[INFO] BaseAviary.render() ——— drone 0 ——— x +00.00, y -00.27, z +00.60 ——— velocity +00.00, +00.29, -01.55 ——— roll -153.30, pitch -00.00, yaw +00.00 ——— angular velocity -17.2182, +0.0000, +0.0000 ——— \n",
      "[WARNING] it 135 in NavigateMazeAviary._clipAndNormalizeState(), clipped z velocity [-1.94]\n",
      "action: [-1. -1.  1.  1.]\n",
      "obs: [ 0.         -0.00868919  0.05618474 -0.9691474  -0.          0.\n",
      "  0.          0.12131631 -0.33333334 -1.          0.          0.        ]\n",
      "reward: 0.0\n",
      "done: True\n",
      "state: [ 0.00000000e+00 -2.60675645e-01  5.61847377e-01  9.98825892e-01\n",
      "  0.00000000e+00  0.00000000e+00 -4.84441686e-02 -3.04466638e+00\n",
      " -0.00000000e+00  0.00000000e+00  0.00000000e+00  3.63948949e-01\n",
      " -1.94155606e+00 -1.80463357e+01  0.00000000e+00  0.00000000e+00\n",
      "  1.37450068e+04  1.37450068e+04  1.51918496e+04  1.51918496e+04]\n",
      "\n",
      "[INFO] BaseAviary.render() ——— it 0140 ——— wall-clock time 139.8s, simulation time 0.6s@240Hz (0.00x)\n",
      "[INFO] BaseAviary.render() ——— drone 0 ——— x +00.00, y -00.26, z +00.56 ——— velocity +00.00, +00.36, -01.94 ——— roll -174.45, pitch -00.00, yaw +00.00 ——— angular velocity -18.0463, +0.0000, +0.0000 ——— \n",
      "[WARNING] it 140 in NavigateMazeAviary._clipAndNormalizeState(), clipped z velocity [-2.34]\n",
      "action: [-1. -1.  1.  1.]\n",
      "obs: [ 0.         -0.0084308   0.05163716  0.9079716  -0.          0.\n",
      "  0.          0.12237538 -0.33333334 -1.          0.          0.        ]\n",
      "reward: 0.0\n",
      "done: True\n",
      "state: [ 0.00000000e+00 -2.52923881e-01  5.16371563e-01  9.89569692e-01\n",
      "  0.00000000e+00  0.00000000e+00  1.44054936e-01  2.85247689e+00\n",
      " -0.00000000e+00  0.00000000e+00  0.00000000e+00  3.67126153e-01\n",
      " -2.34366748e+00 -1.88490580e+01  0.00000000e+00  0.00000000e+00\n",
      "  1.37450068e+04  1.37450068e+04  1.51918496e+04  1.51918496e+04]\n",
      "\n",
      "[INFO] BaseAviary.render() ——— it 0145 ——— wall-clock time 139.8s, simulation time 0.6s@240Hz (0.00x)\n",
      "[INFO] BaseAviary.render() ——— drone 0 ——— x +00.00, y -00.25, z +00.52 ——— velocity +00.00, +00.37, -02.34 ——— roll +163.43, pitch -00.00, yaw +00.00 ——— angular velocity -18.8491, +0.0000, +0.0000 ——— \n",
      "[WARNING] it 145 in NavigateMazeAviary._clipAndNormalizeState(), clipped z velocity [-2.73]\n",
      "action: [-1. -1.  1.  1.]\n",
      "obs: [ 0.         -0.00820263  0.04626618  0.7798696  -0.          0.\n",
      "  0.          0.09758983 -0.33333334 -1.          0.          0.        ]\n",
      "reward: 0.0\n",
      "done: True\n",
      "state: [ 0.00000000e+00 -2.46079000e-01  4.62661766e-01  9.40811379e-01\n",
      "  0.00000000e+00  0.00000000e+00  3.38930597e-01  2.45003269e+00\n",
      " -0.00000000e+00  0.00000000e+00  0.00000000e+00  2.92769494e-01\n",
      " -2.73017747e+00 -1.96260535e+01  0.00000000e+00  0.00000000e+00\n",
      "  1.37450068e+04  1.37450068e+04  1.51918496e+04  1.51918496e+04]\n",
      "\n",
      "[INFO] BaseAviary.render() ——— it 0150 ——— wall-clock time 139.9s, simulation time 0.6s@240Hz (0.00x)\n",
      "[INFO] BaseAviary.render() ——— drone 0 ——— x +00.00, y -00.25, z +00.46 ——— velocity +00.00, +00.29, -02.73 ——— roll +140.38, pitch -00.00, yaw +00.00 ——— angular velocity -19.6261, +0.0000, +0.0000 ——— \n"
     ]
    }
   ],
   "source": [
    "# try and flip\n",
    "action = env.action_space.sample()\n",
    "action = -1 * np.ones_like(action)\n",
    "action[2] = 1\n",
    "action[3] = 1\n",
    "print(action)\n",
    "for i in range(5):\n",
    "    time.sleep(0.05)\n",
    "    obs, reward, done, info = env.step(action)\n",
    "    state = env.getFirstDroneState()\n",
    "    print(f\"action: {action}\")\n",
    "    print(f\"obs: {obs}\")\n",
    "    print(f\"reward: {reward}\")\n",
    "    print(f\"done: {done}\")\n",
    "    print(f\"state: {state}\")\n",
    "    env.render()"
   ]
  },
  {
   "cell_type": "code",
   "execution_count": null,
   "metadata": {},
   "outputs": [],
   "source": [
    "\n",
    "landing_zone_xyz = [3.5, 3.5, 0.0625]\n",
    "position = state[0:3]\n",
    "print(position)\n",
    "target_position = landing_zone_xyz\n",
    "pos_dist = np.linalg.norm(position[0:2] - target_position[0:2])\n",
    "print(pos_dist)\n",
    "\n",
    "y_dist = np.linalg.norm(position[2] - (target_position[2] - 0.1))\n",
    "print(y_dist)"
   ]
  },
  {
   "cell_type": "code",
   "execution_count": null,
   "metadata": {},
   "outputs": [],
   "source": [
    "\n",
    "rpy = state[7:10]\n",
    "print(rpy)"
   ]
  },
  {
   "cell_type": "code",
   "execution_count": null,
   "metadata": {},
   "outputs": [],
   "source": [
    "# Change initial position of the drones"
   ]
  },
  {
   "cell_type": "code",
   "execution_count": null,
   "metadata": {},
   "outputs": [],
   "source": [
    "env.reset()\n",
    "p.resetSimulation()"
   ]
  }
 ],
 "metadata": {
  "kernelspec": {
   "display_name": "Python 3.8.13 ('drones')",
   "language": "python",
   "name": "python3"
  },
  "language_info": {
   "codemirror_mode": {
    "name": "ipython",
    "version": 3
   },
   "file_extension": ".py",
   "mimetype": "text/x-python",
   "name": "python",
   "nbconvert_exporter": "python",
   "pygments_lexer": "ipython3",
   "version": "3.8.13"
  },
  "orig_nbformat": 4,
  "vscode": {
   "interpreter": {
    "hash": "368184befd70de6859feb7ba7ed007b2fb115c321767e95f8823607adf146467"
   }
  }
 },
 "nbformat": 4,
 "nbformat_minor": 2
}
