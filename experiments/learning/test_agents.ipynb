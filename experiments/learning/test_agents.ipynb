{
 "cells": [
  {
   "cell_type": "code",
   "execution_count": 1,
   "metadata": {},
   "outputs": [
    {
     "name": "stderr",
     "output_type": "stream",
     "text": [
      "pybullet build time: May 20 2022 19:44:17\n"
     ]
    }
   ],
   "source": [
    "\n",
    "\"\"\"Test script for single agent problems.\n",
    "\n",
    "This scripts runs the best model found by one of the executions of `singleagent.py`\n",
    "\n",
    "Example\n",
    "-------\n",
    "To run the script, type in a terminal:\n",
    "\n",
    "    $ python test_singleagent.py --exp ./results/save-<env>-<algo>-<obs>-<act>-<time_date>\n",
    "\n",
    "\"\"\"\n",
    "import os\n",
    "import time\n",
    "from datetime import datetime\n",
    "import argparse\n",
    "import re\n",
    "import numpy as np\n",
    "import gym\n",
    "import pprint\n",
    "import torch\n",
    "\n",
    "from gym_pybullet_drones.utils.utils import sync\n",
    "from gym_pybullet_drones.utils.Logger import Logger\n",
    "from gym_pybullet_drones.envs.single_agent_rl import NavigateLandAviary\n",
    "from gym_pybullet_drones.envs.single_agent_rl import map_name_to_env\n",
    "\n",
    "from gym_pybullet_drones.envs.single_agent_rl.BaseSingleAgentAviary import (\n",
    "    ActionType,\n",
    "    ObservationType,\n",
    ")\n",
    "import pybullet as p\n",
    "import pybullet_data\n",
    "\n",
    "import shared_constants"
   ]
  },
  {
   "cell_type": "code",
   "execution_count": 2,
   "metadata": {},
   "outputs": [
    {
     "name": "stdout",
     "output_type": "stream",
     "text": [
      "[INFO] BaseAviary.__init__() loaded parameters from the drone's .urdf:\n",
      "[INFO] m 0.027000, L 0.039700,\n",
      "[INFO] ixx 0.000014, iyy 0.000014, izz 0.000022,\n",
      "[INFO] kf 0.000000, km 0.000000,\n",
      "[INFO] t2w 2.250000, max_speed_kmh 30.000000,\n",
      "[INFO] gnd_eff_coeff 11.368590, prop_radius 0.023135,\n",
      "[INFO] drag_xy_coeff 0.000001, drag_z_coeff 0.000001,\n",
      "[INFO] dw_coeff_1 2267.180000, dw_coeff_2 0.160000, dw_coeff_3 -0.110000\n",
      "startThreads creating 1 threads.\n",
      "starting thread 0\n",
      "viewMatrixstarted thread 0 \n",
      "argc=2\n",
      "argv[0] = --unused\n",
      "argv[1] = --start_demo_name=Physics Server\n",
      "ExampleBrowserThreadFunc started\n",
      "X11 functions dynamically loaded using dlopen/dlsym OK!\n",
      "X11 functions dynamically loaded using dlopen/dlsym OK!\n",
      "Creating context\n",
      "Created GL 3.3 context\n",
      "Direct GLX rendering context obtained\n",
      "Making context current\n",
      "GL_VENDOR=NVIDIA Corporation\n",
      "GL_RENDERER=NVIDIA GeForce RTX 3070/PCIe/SSE2\n",
      "GL_VERSION=3.3.0 NVIDIA 470.141.03\n",
      "GL_SHADING_LANGUAGE_VERSION=3.30 NVIDIA via Cg compiler\n",
      "pthread_getconcurrency()=0\n",
      "Version = 3.3.0 NVIDIA 470.141.03\n",
      "Vendor = NVIDIA Corporation\n",
      "Renderer = NVIDIA GeForce RTX 3070/PCIe/SSE2\n",
      "b3Printf: Selected demo: Physics Server\n",
      "startThreads creating 1 threads.\n",
      "starting thread 0\n",
      "started thread 0 \n",
      "MotionThreadFunc thread started\n",
      " (-0.0, -0.6427876353263855, 0.7660444378852844, 0.0, 0.0, 0.7660444378852844, 0.6427876353263855, 0.0, -1.0, 0.0, -0.0, 0.0, -0.0, 1.2855751514434814, -6.5320892333984375, 1.0)\n",
      "projectionMatrix (1.0, 0.0, 0.0, 0.0, 0.0, 1.0, 0.0, 0.0, 0.0, 0.0, -1.0000200271606445, -1.0, 0.0, 0.0, -0.02000020071864128, 0.0)\n",
      "ven = NVIDIA Corporation\n"
     ]
    },
    {
     "name": "stderr",
     "output_type": "stream",
     "text": [
      "/home/mtrang/anaconda3/envs/drones/lib/python3.8/site-packages/gym/spaces/box.py:73: UserWarning: \u001b[33mWARN: Box bound precision lowered by casting to float32\u001b[0m\n",
      "  logger.warn(\n"
     ]
    },
    {
     "name": "stdout",
     "output_type": "stream",
     "text": [
      "ven = NVIDIA Corporation\n"
     ]
    },
    {
     "data": {
      "text/plain": [
       "array([-0.01666667,  0.        ,  0.05      ,  0.        , -0.        ,\n",
       "        0.        ,  0.        ,  0.        ,  0.        ,  0.        ,\n",
       "        0.        ,  0.        ], dtype=float32)"
      ]
     },
     "execution_count": 2,
     "metadata": {},
     "output_type": "execute_result"
    }
   ],
   "source": [
    "\n",
    "#env_name = \"land-aviary-v0\"\n",
    "env_name = \"cross-obstacles-aviary-v0\"\n",
    "#env_name = \"room-aviary-v0\"\n",
    "\n",
    "OBS = (\n",
    "    ObservationType[\"KIN\"]\n",
    ")\n",
    "ACT = ActionType[\"RPM\"]\n",
    "landing_zone_xyz = [3.5, 3.5, 0.0625]\n",
    "#### Evaluate the model ####################################\n",
    "env = gym.make(\n",
    "    env_name,\n",
    "    aggregate_phy_steps=shared_constants.AGGR_PHY_STEPS,\n",
    "    obs=OBS,\n",
    "    act=ACT,\n",
    "    gui=True,\n",
    "    initial_xyzs = [-0.5, 0, .5],\n",
    ")\n",
    "env.reset()"
   ]
  },
  {
   "cell_type": "code",
   "execution_count": 15,
   "metadata": {},
   "outputs": [
    {
     "data": {
      "text/plain": [
       "array([-0.01666667,  0.        ,  0.05      ,  0.        , -0.        ,\n",
       "        0.        ,  0.        ,  0.        ,  0.        ,  0.        ,\n",
       "        0.        ,  0.        ], dtype=float32)"
      ]
     },
     "execution_count": 15,
     "metadata": {},
     "output_type": "execute_result"
    }
   ],
   "source": [
    "env.reset()"
   ]
  },
  {
   "cell_type": "code",
   "execution_count": null,
   "metadata": {},
   "outputs": [],
   "source": [
    "\n",
    "done = False\n",
    "while not done:\n",
    "    env.render()\n",
    "    action = env.action_space.sample()\n",
    "    action = -1 * np.ones_like(action)\n",
    "    time.sleep(0.05)\n",
    "    obs, reward, done, info = env.step(action)\n",
    "    if done:\n",
    "        env.reset()\n"
   ]
  },
  {
   "cell_type": "code",
   "execution_count": 16,
   "metadata": {},
   "outputs": [
    {
     "name": "stdout",
     "output_type": "stream",
     "text": [
      "8\n"
     ]
    }
   ],
   "source": [
    "#p.loadURDF(\"../../gym_pybullet_drones/assets/two_corner_room.urdf\", [7, -4, 0], physicsClientId=env.CLIENT)\n",
    "p.loadURDF(\"../../gym_pybullet_drones/assets/wider_room.urdf\", [7, -1.5, 0], physicsClientId=env.CLIENT, globalScaling=1)\n",
    "#p.removeBody(0)\n",
    "#id =p.loadSDF(\"stadium.sdf\", physicsClientId=env.CLIENT)\n",
    "# a1 is a robot\n",
    "print(id)"
   ]
  },
  {
   "cell_type": "code",
   "execution_count": 17,
   "metadata": {},
   "outputs": [
    {
     "data": {
      "text/plain": [
       "5"
      ]
     },
     "execution_count": 17,
     "metadata": {},
     "output_type": "execute_result"
    }
   ],
   "source": [
    "\n",
    "p.loadURDF(\"../../gym_pybullet_drones/assets/chairs/table.urdf\", [5.3, 0.5, 0], baseOrientation = [0, 0, 1, 1], physicsClientId=env.CLIENT, globalScaling=1.2)\n",
    "p.loadURDF(\"table_square/table_square.urdf\", [6.5, 0, 0], physicsClientId=env.CLIENT)"
   ]
  },
  {
   "cell_type": "code",
   "execution_count": 18,
   "metadata": {},
   "outputs": [
    {
     "name": "stdout",
     "output_type": "stream",
     "text": [
      "6\n",
      "6\n"
     ]
    }
   ],
   "source": [
    "\n",
    "id = p.loadURDF(\"../../gym_pybullet_drones/assets/tv_stand.urdf\", [3, 0.5, 0], physicsClientId=env.CLIENT, globalScaling=1)\n",
    "print(id)\n",
    "id1 = p.loadURDF(\"../../gym_pybullet_drones/assets/chairs/couch.urdf\", [0.7, 0.9, 0], physicsClientId=env.CLIENT, globalScaling=0.7)\n",
    "print(id)"
   ]
  },
  {
   "cell_type": "code",
   "execution_count": 19,
   "metadata": {},
   "outputs": [],
   "source": [
    "\n",
    "id1 = p.loadURDF(\"../../gym_pybullet_drones/assets/chairs/chair.urdf\", [2, -0.7, 0],baseOrientation = [0, 0, -1, 1], physicsClientId=env.CLIENT, globalScaling=1)"
   ]
  },
  {
   "cell_type": "code",
   "execution_count": 20,
   "metadata": {},
   "outputs": [],
   "source": [
    "\n",
    "id1 = p.loadURDF(\"../../gym_pybullet_drones/assets/kit_chair.urdf\", [5.2, -0.8, 0],baseOrientation = [0, 0, 2, 1], physicsClientId=env.CLIENT, globalScaling=0.01)\n",
    "id1 = p.loadURDF(\"../../gym_pybullet_drones/assets/kit_chair.urdf\", [4.4, .3, 0],baseOrientation = [0, 0, 1, 1], physicsClientId=env.CLIENT, globalScaling=0.01)"
   ]
  },
  {
   "cell_type": "code",
   "execution_count": 21,
   "metadata": {},
   "outputs": [],
   "source": [
    "\n",
    "id1 = p.loadURDF(\"../../gym_pybullet_drones/assets/dresser.urdf\", [3.1, 1., 0.1],baseOrientation = [0, 0, 0, 1], physicsClientId=env.CLIENT, globalScaling=0.15)"
   ]
  },
  {
   "cell_type": "code",
   "execution_count": 22,
   "metadata": {},
   "outputs": [],
   "source": [
    "id1 = p.loadURDF(\"../../gym_pybullet_drones/assets/lamp/lamp.urdf\", [2.5, -0.7, 0.0],baseOrientation = [0, 0, 0, 1], physicsClientId=env.CLIENT, globalScaling=0.8)"
   ]
  },
  {
   "cell_type": "code",
   "execution_count": 23,
   "metadata": {},
   "outputs": [
    {
     "data": {
      "text/plain": [
       "13"
      ]
     },
     "execution_count": 23,
     "metadata": {},
     "output_type": "execute_result"
    }
   ],
   "source": [
    "p.loadURDF(\"../../gym_pybullet_drones/assets/chairs/table.urdf\", [1, 0., 0], baseOrientation = [0, 0, 0, 1], physicsClientId=env.CLIENT, globalScaling=0.7)"
   ]
  },
  {
   "cell_type": "code",
   "execution_count": null,
   "metadata": {},
   "outputs": [],
   "source": [
    "\n",
    "p.loadURDF(\"table_square/table_square.urdf\", [6.5, 0, 0], physicsClientId=env.CLIENT)\n",
    "\n",
    "id1 = p.loadURDF(\"../../gym_pybullet_drones/assets/dresser.urdf\", [2.1, 1., 0.1],baseOrientation = [0, 0, 0, 1], physicsClientId=env.CLIENT, globalScaling=0.15)\n",
    "id1 = p.loadURDF(\"../../gym_pybullet_drones/assets/dresser.urdf\", [2.1, 0., 0.1],baseOrientation = [0, 0, -1, 1], physicsClientId=env.CLIENT, globalScaling=0.15)\n",
    "id = p.loadURDF(\"../../gym_pybullet_drones/assets/tv_stand.urdf\", [3, 0.5, 0], baseOrientation=[0,0,1, 1], physicsClientId=env.CLIENT, globalScaling=1)\n",
    "id = p.loadURDF(\"../../gym_pybullet_drones/assets/tv_stand.urdf\", [1, 0.5, 0], baseOrientation=[0,0,1, 1], physicsClientId=env.CLIENT, globalScaling=1)\n",
    "\n",
    "id1 = p.loadURDF(\"../../gym_pybullet_drones/assets/lamp/lamp.urdf\", [2.5, -0.7, 0.0],baseOrientation = [0, 0, 0, 1], physicsClientId=env.CLIENT, globalScaling=0.8)\n",
    "id1 = p.loadURDF(\"../../gym_pybullet_drones/assets/lamp/lamp.urdf\", [4.5, -0.7, 0.0],baseOrientation = [0, 0, 0, 1], physicsClientId=env.CLIENT, globalScaling=0.8)\n",
    "id1 = p.loadURDF(\"../../gym_pybullet_drones/assets/lamp/lamp.urdf\", [.5, -0.7, 0.0],baseOrientation = [0, 0, 0, 1], physicsClientId=env.CLIENT, globalScaling=0.8)\n",
    "id1 = p.loadURDF(\"../../gym_pybullet_drones/assets/lamp/lamp.urdf\", [5.5, 0., 0.0],baseOrientation = [0, 0, 0, 1], physicsClientId=env.CLIENT, globalScaling=0.8)"
   ]
  },
  {
   "cell_type": "code",
   "execution_count": 24,
   "metadata": {},
   "outputs": [
    {
     "ename": "",
     "evalue": "",
     "output_type": "error",
     "traceback": [
      "\u001b[1;31mThe Kernel crashed while executing code in the the current cell or a previous cell. Please review the code in the cell(s) to identify a possible cause of the failure. Click <a href='https://aka.ms/vscodeJupyterKernelCrash'>here</a> for more info. View Jupyter <a href='command:jupyter.viewOutput'>log</a> for further details."
     ]
    }
   ],
   "source": [
    "p.removeBody(2)"
   ]
  },
  {
   "cell_type": "code",
   "execution_count": 5,
   "metadata": {},
   "outputs": [],
   "source": [
    "env.reset()\n",
    "\n",
    "p.removeBody(2)\n",
    "\n",
    "p.loadURDF(\"../../gym_pybullet_drones/assets/wider_room.urdf\", [7, -1.5, 0], physicsClientId=env.CLIENT, globalScaling=1)\n",
    "p.loadURDF(\"table_square/table_square.urdf\", [6.5, 0, 0], physicsClientId=env.CLIENT)\n",
    "\n",
    "id1 = p.loadURDF(\"../../gym_pybullet_drones/assets/dresser.urdf\", [1.1, 1., 0.1],baseOrientation = [0, 0, -1, 1], physicsClientId=env.CLIENT, globalScaling=0.15)\n",
    "id1 = p.loadURDF(\"../../gym_pybullet_drones/assets/dresser.urdf\", [1.1, -1., 0.1],baseOrientation = [0, 0, -1, 1], physicsClientId=env.CLIENT, globalScaling=0.15)\n",
    "id1 = p.loadURDF(\"../../gym_pybullet_drones/assets/dresser.urdf\", [2.1, 0., 0.1],baseOrientation = [0, 0, -1, 1], physicsClientId=env.CLIENT, globalScaling=0.15)"
   ]
  },
  {
   "cell_type": "code",
   "execution_count": 12,
   "metadata": {},
   "outputs": [
    {
     "name": "stdout",
     "output_type": "stream",
     "text": [
      "numActiveThreads = 0\n",
      "stopping threads\n",
      "Thread with taskId 0 exiting\n",
      "Thread TERMINATED\n",
      "destroy semaphore\n",
      "semaphore destroyed\n",
      "destroy main semaphore\n",
      "main semaphore destroyed\n",
      "finished\n"
     ]
    }
   ],
   "source": [
    "\n",
    "id1 = p.loadURDF(\"../../gym_pybullet_drones/assets/cupboard.urdf\", [4.1, 0., 0],baseOrientation = [0, 0, 0, 1], physicsClientId=env.CLIENT, globalScaling=.25)\n",
    "id1 = p.loadURDF(\"../../gym_pybullet_drones/assets/cupboard.urdf\", [3.1, 1., 0],baseOrientation = [0, 0, 0, 1], physicsClientId=env.CLIENT, globalScaling=.25)\n",
    "id1 = p.loadURDF(\"../../gym_pybullet_drones/assets/cupboard.urdf\", [3.1, -1., 0],baseOrientation = [0, 0, 0, 1], physicsClientId=env.CLIENT, globalScaling=.25)"
   ]
  },
  {
   "cell_type": "code",
   "execution_count": 11,
   "metadata": {},
   "outputs": [],
   "source": [
    "p.removeBody(id1)"
   ]
  },
  {
   "cell_type": "markdown",
   "metadata": {},
   "source": [
    "#Single Step of env and print state"
   ]
  },
  {
   "cell_type": "code",
   "execution_count": null,
   "metadata": {},
   "outputs": [],
   "source": [
    "\n",
    "action = env.action_space.sample()\n",
    "action = -1 * np.ones_like(action)\n",
    "for i in range(100):\n",
    "    time.sleep(0.02)\n",
    "    obs, reward, done, info = env.step(action)\n",
    "    state = env.getFirstDroneState()\n",
    "    print(f\"action: {action}\")\n",
    "    print(f\"obs: {obs}\")\n",
    "    print(f\"reward: {reward}\")\n",
    "    print(f\"done: {done}\")\n",
    "    print(f\"state: {state}\")\n",
    "    env.render()\n"
   ]
  },
  {
   "cell_type": "code",
   "execution_count": null,
   "metadata": {},
   "outputs": [],
   "source": [
    "# try and flip\n",
    "action = env.action_space.sample()\n",
    "action = -1 * np.ones_like(action)\n",
    "action[2] = 1\n",
    "action[3] = 1\n",
    "print(action)\n",
    "for i in range(5):\n",
    "    time.sleep(0.05)\n",
    "    obs, reward, done, info = env.step(action)\n",
    "    state = env.getFirstDroneState()\n",
    "    print(f\"action: {action}\")\n",
    "    print(f\"obs: {obs}\")\n",
    "    print(f\"reward: {reward}\")\n",
    "    print(f\"done: {done}\")\n",
    "    print(f\"state: {state}\")\n",
    "    env.render()"
   ]
  },
  {
   "cell_type": "code",
   "execution_count": null,
   "metadata": {},
   "outputs": [],
   "source": [
    "\n",
    "landing_zone_xyz = [3.5, 3.5, 0.0625]\n",
    "position = state[0:3]\n",
    "print(position)\n",
    "target_position = landing_zone_xyz\n",
    "pos_dist = np.linalg.norm(position[0:2] - target_position[0:2])\n",
    "print(pos_dist)\n",
    "\n",
    "y_dist = np.linalg.norm(position[2] - (target_position[2] - 0.1))\n",
    "print(y_dist)"
   ]
  },
  {
   "cell_type": "code",
   "execution_count": null,
   "metadata": {},
   "outputs": [],
   "source": [
    "\n",
    "rpy = state[7:10]\n",
    "print(rpy)"
   ]
  },
  {
   "cell_type": "code",
   "execution_count": null,
   "metadata": {},
   "outputs": [],
   "source": [
    "# Change initial position of the drones"
   ]
  },
  {
   "cell_type": "code",
   "execution_count": null,
   "metadata": {},
   "outputs": [],
   "source": [
    "env.reset()\n",
    "p.resetSimulation()"
   ]
  }
 ],
 "metadata": {
  "kernelspec": {
   "display_name": "Python 3.8.13 ('drones')",
   "language": "python",
   "name": "python3"
  },
  "language_info": {
   "codemirror_mode": {
    "name": "ipython",
    "version": 3
   },
   "file_extension": ".py",
   "mimetype": "text/x-python",
   "name": "python",
   "nbconvert_exporter": "python",
   "pygments_lexer": "ipython3",
   "version": "3.8.13"
  },
  "orig_nbformat": 4,
  "vscode": {
   "interpreter": {
    "hash": "368184befd70de6859feb7ba7ed007b2fb115c321767e95f8823607adf146467"
   }
  }
 },
 "nbformat": 4,
 "nbformat_minor": 2
}
